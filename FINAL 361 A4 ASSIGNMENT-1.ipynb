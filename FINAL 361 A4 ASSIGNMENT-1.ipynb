{
 "cells": [
  {
   "cell_type": "markdown",
   "metadata": {},
   "source": [
    "Task order: Task2, Task5, Task3\n",
    "The algorithms in the 3 sections use the same variable names. Please run the whole program at once or do preprocessing + frequent itemset generation + frequent rule generation together."
   ]
  },
  {
   "cell_type": "code",
   "execution_count": 547,
   "metadata": {},
   "outputs": [],
   "source": [
    "import numpy as np\n",
    "import pandas as pd\n",
    "import itertools\n",
    "\n",
    "supermarket = pd.read_csv(\"supermarket.csv\", sep='\\n', header=None,)\n",
    "all_transaction_dict = {}\n",
    "dict_by_words = {}\n",
    "for i in range(len(supermarket)):\n",
    "    row = supermarket.iloc[i].str.split(\",\")[0]\n",
    "    all_transaction_dict[i] = np.array(row)\n",
    "    for word in row:\n",
    "        if word in dict_by_words:\n",
    "            dict_by_words[word].append(i)\n",
    "        else:\n",
    "            dict_by_words[word] = []\n",
    "            dict_by_words[word].append(i)\n"
   ]
  },
  {
   "cell_type": "markdown",
   "metadata": {},
   "source": [
    " The code directly below is the Apriori algorithm a detailed description is provided in the report"
   ]
  },
  {
   "cell_type": "code",
   "execution_count": 531,
   "metadata": {},
   "outputs": [
    {
     "name": "stdout",
     "output_type": "stream",
     "text": [
      "minsup in occurences:  694.05\n",
      "Preprocessing complete\n",
      "Iteration begins\n",
      "44\n",
      "Iteration begins\n",
      "379\n",
      "Iteration begins\n",
      "909\n",
      "Iteration begins\n",
      "629\n",
      "Iteration begins\n",
      "104\n",
      "Iteration begins\n",
      "1\n",
      "DONE\n",
      "2066\n",
      "2066 frequent itemsets\n",
      "18200 possible association rules\n"
     ]
    }
   ],
   "source": [
    "minsup = 0.15\n",
    "minconf = 0.80\n",
    "minlift = 0\n",
    "sup_value = minsup * len(supermarket)\n",
    "print(\"minsup in occurences: \",sup_value)\n",
    "#Apriori implementation,\n",
    "candidates = np.array([])\n",
    "common_sets = {}\n",
    "k = 2\n",
    "unique = set(dict_by_words.keys())\n",
    "for value in unique:\n",
    "    if len(dict_by_words[value]) > sup_value:\n",
    "        candidates = np.append(candidates,value)\n",
    "original = candidates\n",
    "individuals = np.array([str(a) for a in range(len(original))])\n",
    "for code in individuals:\n",
    "    common_sets[code] = dict_by_words[original[int(code)]]\n",
    "pruned = individuals\n",
    "print(\"Preprocessing complete\")\n",
    "results = np.array(individuals)\n",
    "forbidden = {}\n",
    "while len(pruned) > 0:\n",
    "    covered = np.array([])\n",
    "    print(\"Iteration begins\")\n",
    "    print(len(pruned))\n",
    "    candidates = np.array([])\n",
    "    for z in range(len(pruned)):\n",
    "        element = pruned[z]\n",
    "        set1 = set(common_sets[element])\n",
    "        for q in range(len(individuals)):\n",
    "            possible = individuals[q]\n",
    "            if k > 2 and possible in forbidden[\"\".join(element)]:\n",
    "                continue\n",
    "            set2 = set(common_sets[possible])\n",
    "            set3 = set1 & set2\n",
    "            if len(set3) > sup_value and possible not in element:\n",
    "                temp = element.split(\",\") + [possible]\n",
    "                covered = np.append(covered,temp)\n",
    "                full = sorted(temp)\n",
    "                full = \",\".join(full)\n",
    "                if full not in common_sets:\n",
    "                    candidates = np.append(candidates, full)\n",
    "                    common_sets[full] = set3 \n",
    "                    results = np.append(results,full)\n",
    "            else:\n",
    "                if k == 2:\n",
    "                    if element not in forbidden:\n",
    "                        forbidden[element] = np.array([])\n",
    "                    forbidden[element] = np.append(forbidden[element],possible)\n",
    "    for r in candidates:\n",
    "        no = np.array([])\n",
    "        q_list = r.split(\",\")\n",
    "        for u in range(len(q_list)):\n",
    "            no = np.append(no,forbidden[q_list[u]])\n",
    "        forbidden[\"\".join(r)] = no\n",
    "    covered = set(covered)\n",
    "    individuals = np.array(list(covered))\n",
    "    pruned = candidates\n",
    "    k += 1 \n",
    "print(\"DONE\")\n",
    "print(len(results))\n",
    "#Generating unique itemsets and possible association rules\n",
    "print(len(results), \"frequent itemsets\")\n",
    "total = []\n",
    "for value in results:\n",
    "    qq = value.split(\",\")\n",
    "    for i in range(1,len(qq)):\n",
    "        xs = itertools.combinations(qq, i)\n",
    "        for v in xs:\n",
    "            copy1 = value.split(\",\")\n",
    "            for x in v:\n",
    "                copy1.pop(copy1.index(x))\n",
    "            if (list(v),copy1) not in total:\n",
    "                total.append((list(v),copy1))\n",
    "print(len(total), \"possible association rules\")"
   ]
  },
  {
   "cell_type": "code",
   "execution_count": 532,
   "metadata": {},
   "outputs": [
    {
     "name": "stdout",
     "output_type": "stream",
     "text": [
      "['(juice-sat-cord-ms, party snack foods, biscuits, frozen foods -> bread and cake)', '(bread and cake, juice-sat-cord-ms, party snack foods, frozen foods -> biscuits)', '(juice-sat-cord-ms, baking needs, vegetables, frozen foods -> bread and cake)', '(sauces-gravy-pkle, baking needs, vegetables, frozen foods -> bread and cake)', '(party snack foods, baking needs, vegetables, frozen foods -> bread and cake)', '(baking needs, tissues-paper prd, vegetables, frozen foods -> bread and cake)', '(milk-cream, baking needs, tissues-paper prd, frozen foods -> bread and cake)', '(sauces-gravy-pkle, juice-sat-cord-ms, party snack foods -> bread and cake)', '(juice-sat-cord-ms, party snack foods, tissues-paper prd -> bread and cake)', '(sauces-gravy-pkle, party snack foods, tissues-paper prd -> bread and cake)', '(sauces-gravy-pkle, biscuits, baking needs, frozen foods -> bread and cake)', '(juice-sat-cord-ms, biscuits, baking needs, frozen foods -> bread and cake)', '(milk-cream, juice-sat-cord-ms, baking needs, vegetables -> bread and cake)', '(party snack foods, biscuits, baking needs, frozen foods -> bread and cake)', '(milk-cream, juice-sat-cord-ms, vegetables, frozen foods -> bread and cake)', '(biscuits, baking needs, tissues-paper prd, frozen foods -> bread and cake)', '(milk-cream, baking needs, tissues-paper prd, vegetables -> bread and cake)', '(milk-cream, tissues-paper prd, vegetables, frozen foods -> bread and cake)', '(fruit, biscuits, baking needs, vegetables, frozen foods -> bread and cake)', '(bread and cake, fruit, biscuits, baking needs, frozen foods -> vegetables)', '(bread and cake, biscuits, baking needs, vegetables, frozen foods -> fruit)', '(sauces-gravy-pkle, bread and cake, biscuits, baking needs -> frozen foods)', '(bread and cake, party snack foods, baking needs, frozen foods -> biscuits)', '(party snack foods, biscuits, baking needs, vegetables -> bread and cake)', '(sauces-gravy-pkle, biscuits, vegetables, frozen foods -> bread and cake)', '(milk-cream, party snack foods, biscuits, frozen foods -> bread and cake)', '(juice-sat-cord-ms, biscuits, vegetables, frozen foods -> bread and cake)', '(party snack foods, biscuits, vegetables, frozen foods -> bread and cake)', '(biscuits, baking needs, tissues-paper prd, vegetables -> bread and cake)', '(biscuits, tissues-paper prd, vegetables, frozen foods -> bread and cake)', '(sauces-gravy-pkle, bread and cake, biscuits, vegetables -> frozen foods)', '(juice-sat-cord-ms, fruit, baking needs, frozen foods -> bread and cake)', '(fruit, baking needs, tissues-paper prd, frozen foods -> bread and cake)', '(party snack foods, fruit, baking needs, frozen foods -> bread and cake)', '(total = high, baking needs, vegetables, frozen foods -> bread and cake)', '(bread and cake, total = high, baking needs, frozen foods -> vegetables)', '(bread and cake, total = high, vegetables, frozen foods -> baking needs)', '(bread and cake, total = high, baking needs, vegetables -> frozen foods)', '(sauces-gravy-pkle, juice-sat-cord-ms, baking needs -> bread and cake)', '(sauces-gravy-pkle, juice-sat-cord-ms, frozen foods -> bread and cake)', '(juice-sat-cord-ms, party snack foods, frozen foods -> bread and cake)', '(juice-sat-cord-ms, party snack foods, baking needs -> bread and cake)', '(juice-sat-cord-ms, baking needs, tissues-paper prd -> bread and cake)', '(sauces-gravy-pkle, party snack foods, frozen foods -> bread and cake)', '(juice-sat-cord-ms, tissues-paper prd, frozen foods -> bread and cake)', '(sauces-gravy-pkle, baking needs, tissues-paper prd -> bread and cake)', '(sauces-gravy-pkle, party snack foods, baking needs -> bread and cake)', '(sauces-gravy-pkle, tissues-paper prd, frozen foods -> bread and cake)', '(party snack foods, tissues-paper prd, frozen foods -> bread and cake)', '(party snack foods, baking needs, tissues-paper prd -> bread and cake)', '(juice-sat-cord-ms, fruit, vegetables, frozen foods -> bread and cake)', '(juice-sat-cord-ms, fruit, baking needs, vegetables -> bread and cake)', '(milk-cream, juice-sat-cord-ms, fruit, frozen foods -> bread and cake)', '(milk-cream, juice-sat-cord-ms, fruit, baking needs -> bread and cake)', '(sauces-gravy-pkle, total = high, tissues-paper prd -> bread and cake)', '(sauces-gravy-pkle, fruit, baking needs, vegetables -> bread and cake)', '(juice-sat-cord-ms, total = high, tissues-paper prd -> bread and cake)', '(milk-cream, baking needs, vegetables, frozen foods -> bread and cake)', '(sauces-gravy-pkle, total = high, party snack foods -> bread and cake)', '(sauces-gravy-pkle, fruit, vegetables, frozen foods -> bread and cake)', '(milk-cream, fruit, baking needs, tissues-paper prd -> bread and cake)', '(milk-cream, fruit, tissues-paper prd, frozen foods -> bread and cake)', '(party snack foods, fruit, baking needs, vegetables -> bread and cake)', '(fruit, baking needs, tissues-paper prd, vegetables -> bread and cake)', '(juice-sat-cord-ms, total = high, party snack foods -> bread and cake)', '(fruit, tissues-paper prd, vegetables, frozen foods -> bread and cake)', '(party snack foods, fruit, vegetables, frozen foods -> bread and cake)', '(total = high, party snack foods, tissues-paper prd -> bread and cake)', '(milk-cream, party snack foods, fruit, frozen foods -> bread and cake)', '(total = high, biscuits, baking needs, frozen foods -> bread and cake)', '(sauces-gravy-pkle, bread and cake, baking needs, vegetables -> fruit)', '(bread and cake, party snack foods, fruit, frozen foods -> vegetables)', '(bread and cake, juice-sat-cord-ms, baking needs, vegetables -> fruit)', '(bread and cake, party snack foods, fruit, baking needs -> vegetables)', '(bread and cake, juice-sat-cord-ms, fruit, baking needs -> vegetables)', '(bread and cake, juice-sat-cord-ms, fruit, frozen foods -> vegetables)', '(bread and cake, party snack foods, baking needs, vegetables -> fruit)', '(sauces-gravy-pkle, bread and cake, vegetables, frozen foods -> fruit)', '(bread and cake, baking needs, tissues-paper prd, vegetables -> fruit)', '(bread and cake, juice-sat-cord-ms, vegetables, frozen foods -> fruit)', '(bread and cake, tissues-paper prd, vegetables, frozen foods -> fruit)', '(bread and cake, party snack foods, vegetables, frozen foods -> fruit)', '(bread and cake, fruit, baking needs, tissues-paper prd -> vegetables)', '(bread and cake, fruit, tissues-paper prd, frozen foods -> vegetables)', '(sauces-gravy-pkle, bread and cake, fruit, frozen foods -> vegetables)', '(sauces-gravy-pkle, bread and cake, fruit, baking needs -> vegetables)', '(bread and cake, total = high, biscuits, frozen foods -> baking needs)', '(bread and cake, total = high, biscuits, baking needs -> frozen foods)', '(bread and cake, total = high, baking needs, frozen foods -> biscuits)', '(margarine, baking needs, vegetables, frozen foods -> bread and cake)', '(milk-cream, margarine, baking needs, frozen foods -> bread and cake)', '(milk-cream, bread and cake, margarine, frozen foods -> baking needs)', '(sauces-gravy-pkle, juice-sat-cord-ms, vegetables -> bread and cake)', '(juice-sat-cord-ms, party snack foods, vegetables -> bread and cake)', '(milk-cream, sauces-gravy-pkle, juice-sat-cord-ms -> bread and cake)', '(sauces-gravy-pkle, party snack foods, vegetables -> bread and cake)', '(milk-cream, sauces-gravy-pkle, party snack foods -> bread and cake)', '(sauces-gravy-pkle, tissues-paper prd, vegetables -> bread and cake)', '(milk-cream, juice-sat-cord-ms, party snack foods -> bread and cake)', '(milk-cream, sauces-gravy-pkle, tissues-paper prd -> bread and cake)', '(juice-sat-cord-ms, tissues-paper prd, vegetables -> bread and cake)', '(milk-cream, juice-sat-cord-ms, fruit, vegetables -> bread and cake)', '(party snack foods, tissues-paper prd, vegetables -> bread and cake)', '(milk-cream, sauces-gravy-pkle, fruit, vegetables -> bread and cake)', '(milk-cream, party snack foods, tissues-paper prd -> bread and cake)', '(milk-cream, juice-sat-cord-ms, tissues-paper prd -> bread and cake)', '(milk-cream, fruit, tissues-paper prd, vegetables -> bread and cake)', '(milk-cream, party snack foods, fruit, vegetables -> bread and cake)', '(juice-sat-cord-ms, fruit, biscuits, baking needs -> bread and cake)', '(biscuits, baking needs, vegetables, frozen foods -> bread and cake)', '(fruit, biscuits, baking needs, tissues-paper prd -> bread and cake)', '(sauces-gravy-pkle, fruit, biscuits, frozen foods -> bread and cake)', '(milk-cream, biscuits, baking needs, frozen foods -> bread and cake)', '(party snack foods, fruit, biscuits, frozen foods -> bread and cake)', '(party snack foods, fruit, biscuits, baking needs -> bread and cake)', '(fruit, biscuits, tissues-paper prd, frozen foods -> bread and cake)', '(juice-sat-cord-ms, fruit, biscuits, frozen foods -> bread and cake)', '(bread and cake, total = high, biscuits, frozen foods -> vegetables)', '(milk-cream, bread and cake, fruit, tissues-paper prd -> vegetables)', '(total = high, biscuits, baking needs, vegetables -> bread and cake)', '(total = high, biscuits, vegetables, frozen foods -> bread and cake)', '(milk-cream, sauces-gravy-pkle, bread and cake, vegetables -> fruit)', '(milk-cream, bread and cake, juice-sat-cord-ms, vegetables -> fruit)', '(milk-cream, bread and cake, party snack foods, vegetables -> fruit)', '(milk-cream, bread and cake, tissues-paper prd, vegetables -> fruit)', '(milk-cream, sauces-gravy-pkle, bread and cake, fruit -> vegetables)', '(bread and cake, total = high, biscuits, vegetables -> baking needs)', '(sauces-gravy-pkle, bread and cake, fruit, biscuits -> frozen foods)', '(bread and cake, party snack foods, fruit, frozen foods -> biscuits)', '(bread and cake, total = high, biscuits, vegetables -> frozen foods)', '(bread and cake, total = high, vegetables, frozen foods -> biscuits)', '(juice-sat-cord-ms, breakfast food, baking needs -> bread and cake)', '(juice-sat-cord-ms, margarine, tissues-paper prd -> bread and cake)', '(juice-sat-cord-ms, party snack foods, margarine -> bread and cake)', '(breakfast food, baking needs, tissues-paper prd -> bread and cake)', '(margarine, biscuits, baking needs, frozen foods -> bread and cake)', '(milk-cream, margarine, baking needs, vegetables -> bread and cake)', '(total = high, fruit, baking needs, frozen foods -> bread and cake)', '(bread and cake, total = high, fruit, frozen foods -> baking needs)', '(bread and cake, total = high, fruit, baking needs -> frozen foods)', '(sauces-gravy-pkle, juice-sat-cord-ms, biscuits -> bread and cake)', '(sauces-gravy-pkle, biscuits, tissues-paper prd -> bread and cake)', '(sauces-gravy-pkle, party snack foods, biscuits -> bread and cake)', '(juice-sat-cord-ms, party snack foods, biscuits -> bread and cake)', '(party snack foods, biscuits, tissues-paper prd -> bread and cake)', '(juice-sat-cord-ms, biscuits, tissues-paper prd -> bread and cake)', '(milk-cream, juice-sat-cord-ms, fruit, biscuits -> bread and cake)', '(milk-cream, biscuits, baking needs, vegetables -> bread and cake)', '(milk-cream, party snack foods, fruit, biscuits -> bread and cake)', '(sauces-gravy-pkle, fruit, biscuits, vegetables -> bread and cake)', '(juice-sat-cord-ms, fruit, biscuits, vegetables -> bread and cake)', '(fruit, biscuits, tissues-paper prd, vegetables -> bread and cake)', '(party snack foods, fruit, biscuits, vegetables -> bread and cake)', '(milk-cream, biscuits, vegetables, frozen foods -> bread and cake)', '(bread and cake, party snack foods, fruit, biscuits -> vegetables)', '(bread and cake, juice-sat-cord-ms, fruit, biscuits -> vegetables)', '(bread and cake, fruit, biscuits, tissues-paper prd -> vegetables)', '(sauces-gravy-pkle, bread and cake, biscuits, vegetables -> fruit)', '(bread and cake, biscuits, tissues-paper prd, vegetables -> fruit)', '(bread and cake, party snack foods, biscuits, vegetables -> fruit)', '(sauces-gravy-pkle, bread and cake, fruit, biscuits -> vegetables)', '(bread and cake, juice-sat-cord-ms, biscuits, vegetables -> fruit)', '(juice-sat-cord-ms, baking needs, frozen foods -> bread and cake)', '(sauces-gravy-pkle, baking needs, frozen foods -> bread and cake)', '(canned vegetables, baking needs, frozen foods -> bread and cake)', '(party snack foods, baking needs, frozen foods -> bread and cake)', '(baking needs, tissues-paper prd, frozen foods -> bread and cake)', '(juice-sat-cord-ms, total = high, baking needs -> bread and cake)', '(juice-sat-cord-ms, total = high, frozen foods -> bread and cake)', '(sauces-gravy-pkle, total = high, baking needs -> bread and cake)', '(sauces-gravy-pkle, total = high, frozen foods -> bread and cake)', '(fruit, baking needs, vegetables, frozen foods -> bread and cake)', '(margarine, biscuits, baking needs, vegetables -> bread and cake)', '(total = high, baking needs, tissues-paper prd -> bread and cake)', '(milk-cream, fruit, baking needs, frozen foods -> bread and cake)', '(milk-cream, margarine, biscuits, frozen foods -> bread and cake)', '(margarine, biscuits, vegetables, frozen foods -> bread and cake)', '(total = high, party snack foods, baking needs -> bread and cake)', '(total = high, party snack foods, frozen foods -> bread and cake)', '(milk-cream, margarine, biscuits, baking needs -> bread and cake)', '(total = high, tissues-paper prd, frozen foods -> bread and cake)', '(total = high, fruit, baking needs, vegetables -> bread and cake)', '(total = high, fruit, vegetables, frozen foods -> bread and cake)', '(bread and cake, baking needs, vegetables, frozen foods -> fruit)', '(bread and cake, fruit, baking needs, frozen foods -> vegetables)', '(bread and cake, total = high, baking needs, vegetables -> fruit)', '(bread and cake, total = high, fruit, vegetables -> baking needs)', '(bread and cake, total = high, vegetables, frozen foods -> fruit)', '(bread and cake, total = high, party snack foods -> baking needs)', '(bread and cake, total = high, fruit, frozen foods -> vegetables)', '(bread and cake, total = high, fruit, baking needs -> vegetables)', '(bread and cake, total = high, tissues-paper prd -> baking needs)', '(sauces-gravy-pkle, bread and cake, total = high -> baking needs)', '(bread and cake, total = high, fruit, vegetables -> frozen foods)', '(bread and cake, total = high, tissues-paper prd -> frozen foods)', '(bread and cake, juice-sat-cord-ms, total = high -> frozen foods)', '(sauces-gravy-pkle, bread and cake, total = high -> frozen foods)', '(bread and cake, total = high, party snack foods -> frozen foods)', '(margarine, fruit, baking needs, frozen foods -> bread and cake)', '(party snack foods, fruit, biscuits, frozen foods -> vegetables)', '(juice-sat-cord-ms, fruit, biscuits, frozen foods -> vegetables)', '(party snack foods, biscuits, vegetables, frozen foods -> fruit)', '(juice-sat-cord-ms, biscuits, vegetables, frozen foods -> fruit)', '(sauces-gravy-pkle, party snack foods, biscuits -> frozen foods)', '(juice-sat-cord-ms, baking needs, vegetables -> bread and cake)', '(juice-sat-cord-ms, vegetables, frozen foods -> bread and cake)', '(sauces-gravy-pkle, baking needs, vegetables -> bread and cake)', '(milk-cream, sauces-gravy-pkle, baking needs -> bread and cake)', '(milk-cream, juice-sat-cord-ms, frozen foods -> bread and cake)', '(sauces-gravy-pkle, juice-sat-cord-ms, fruit -> bread and cake)', '(milk-cream, juice-sat-cord-ms, baking needs -> bread and cake)', '(sauces-gravy-pkle, vegetables, frozen foods -> bread and cake)', '(milk-cream, sauces-gravy-pkle, frozen foods -> bread and cake)', '(party snack foods, baking needs, vegetables -> bread and cake)', '(sauces-gravy-pkle, fruit, tissues-paper prd -> bread and cake)', '(party snack foods, vegetables, frozen foods -> bread and cake)', '(juice-sat-cord-ms, party snack foods, fruit -> bread and cake)', '(milk-cream, party snack foods, frozen foods -> bread and cake)', '(sauces-gravy-pkle, party snack foods, fruit -> bread and cake)', '(baking needs, tissues-paper prd, vegetables -> bread and cake)', '(milk-cream, party snack foods, baking needs -> bread and cake)', '(milk-cream, fruit, baking needs, vegetables -> bread and cake)', '(juice-sat-cord-ms, fruit, tissues-paper prd -> bread and cake)', '(tissues-paper prd, vegetables, frozen foods -> bread and cake)', '(party snack foods, fruit, tissues-paper prd -> bread and cake)', '(milk-cream, baking needs, tissues-paper prd -> bread and cake)', '(canned vegetables, baking needs, vegetables -> bread and cake)', '(canned vegetables, vegetables, frozen foods -> bread and cake)', '(milk-cream, tissues-paper prd, frozen foods -> bread and cake)', '(milk-cream, fruit, vegetables, frozen foods -> bread and cake)', '(juice-sat-cord-ms, total = high, vegetables -> bread and cake)', '(milk-cream, sauces-gravy-pkle, total = high -> bread and cake)', '(fruit, biscuits, baking needs, frozen foods -> bread and cake)', '(milk-cream, juice-sat-cord-ms, total = high -> bread and cake)', '(sauces-gravy-pkle, total = high, vegetables -> bread and cake)', '(milk-cream, total = high, tissues-paper prd -> bread and cake)', '(total = high, tissues-paper prd, vegetables -> bread and cake)', '(total = high, party snack foods, vegetables -> bread and cake)', '(milk-cream, total = high, party snack foods -> bread and cake)', '(milk-cream, total = high, fruit, vegetables -> bread and cake)', '(milk-cream, bread and cake, baking needs, vegetables -> fruit)', '(bread and cake, total = high, biscuits, frozen foods -> fruit)', '(bread and cake, total = high, tissues-paper prd -> vegetables)', '(sauces-gravy-pkle, bread and cake, total = high -> vegetables)', '(milk-cream, bread and cake, fruit, baking needs -> vegetables)', '(milk-cream, bread and cake, fruit, frozen foods -> vegetables)', '(total = high, fruit, biscuits, baking needs -> bread and cake)', '(milk-cream, bread and cake, vegetables, frozen foods -> fruit)', '(total = high, fruit, biscuits, frozen foods -> bread and cake)', '(milk-cream, bread and cake, total = high, fruit -> vegetables)', '(bread and cake, total = high, fruit, biscuits -> baking needs)', '(milk-cream, bread and cake, total = high, vegetables -> fruit)', '(total = high, party snack foods, frozen foods -> baking needs)', '(juice-sat-cord-ms, total = high, frozen foods -> baking needs)', '(sauces-gravy-pkle, total = high, frozen foods -> baking needs)', '(total = high, tissues-paper prd, frozen foods -> baking needs)', '(total = high, baking needs, tissues-paper prd -> frozen foods)', '(sauces-gravy-pkle, total = high, baking needs -> frozen foods)', '(juice-sat-cord-ms, total = high, baking needs -> frozen foods)', '(total = high, party snack foods, baking needs -> frozen foods)', '(bread and cake, total = high, fruit, biscuits -> frozen foods)', '(bread and cake, total = high, fruit, baking needs -> biscuits)', '(bread and cake, total = high, fruit, frozen foods -> biscuits)', '(juice-sat-cord-ms, margarine, frozen foods -> bread and cake)', '(breakfast food, baking needs, frozen foods -> bread and cake)', '(juice-sat-cord-ms, margarine, baking needs -> bread and cake)', '(sauces-gravy-pkle, margarine, baking needs -> bread and cake)', '(sauces-gravy-pkle, margarine, frozen foods -> bread and cake)', '(party snack foods, margarine, frozen foods -> bread and cake)', '(margarine, tissues-paper prd, frozen foods -> bread and cake)', '(margarine, baking needs, tissues-paper prd -> bread and cake)', '(party snack foods, margarine, baking needs -> bread and cake)', '(baking needs, pet foods, tissues-paper prd -> bread and cake)', '(total = high, margarine, tissues-paper prd -> bread and cake)', '(margarine, fruit, vegetables, frozen foods -> bread and cake)', '(margarine, fruit, baking needs, vegetables -> bread and cake)', '(milk-cream, margarine, fruit, baking needs -> bread and cake)', '(bread and cake, margarine, baking needs, vegetables -> fruit)', '(bread and cake, margarine, vegetables, frozen foods -> fruit)', '(bread and cake, margarine, fruit, frozen foods -> vegetables)', '(bread and cake, margarine, fruit, baking needs -> vegetables)', '(sauces-gravy-pkle, biscuits, baking needs -> bread and cake)', '(juice-sat-cord-ms, biscuits, baking needs -> bread and cake)', '(department137, baking needs, frozen foods -> bread and cake)', '(milk-cream, juice-sat-cord-ms, vegetables -> bread and cake)', '(milk-cream, sauces-gravy-pkle, vegetables -> bread and cake)', '(juice-sat-cord-ms, biscuits, frozen foods -> bread and cake)', '(sauces-gravy-pkle, biscuits, frozen foods -> bread and cake)', '(party snack foods, biscuits, frozen foods -> bread and cake)', '(milk-cream, party snack foods, vegetables -> bread and cake)', '(party snack foods, biscuits, baking needs -> bread and cake)', '(biscuits, baking needs, tissues-paper prd -> bread and cake)', '(canned vegetables, biscuits, baking needs -> bread and cake)', '(canned vegetables, biscuits, frozen foods -> bread and cake)', '(biscuits, tissues-paper prd, frozen foods -> bread and cake)', '(milk-cream, tissues-paper prd, vegetables -> bread and cake)', '(milk-cream, canned vegetables, vegetables -> bread and cake)', '(sauces-gravy-pkle, total = high, biscuits -> bread and cake)', '(fruit, biscuits, baking needs, vegetables -> bread and cake)', '(milk-cream, fruit, biscuits, baking needs -> bread and cake)', '(juice-sat-cord-ms, total = high, biscuits -> bread and cake)', '(total = high, biscuits, tissues-paper prd -> bread and cake)', '(total = high, party snack foods, biscuits -> bread and cake)', '(milk-cream, fruit, biscuits, frozen foods -> bread and cake)', '(fruit, biscuits, vegetables, frozen foods -> bread and cake)', '(total = high, tissues-paper prd, frozen foods -> vegetables)', '(milk-cream, baking needs, vegetables, frozen foods -> fruit)', '(bread and cake, fruit, biscuits, frozen foods -> vegetables)', '(total = high, fruit, biscuits, vegetables -> bread and cake)', '(bread and cake, fruit, biscuits, baking needs -> vegetables)', '(bread and cake, biscuits, baking needs, vegetables -> fruit)', '(milk-cream, fruit, baking needs, frozen foods -> vegetables)', '(bread and cake, biscuits, vegetables, frozen foods -> fruit)', '(sauces-gravy-pkle, total = high, vegetables -> baking needs)', '(bread and cake, total = high, fruit, biscuits -> vegetables)', '(total = high, tissues-paper prd, vegetables -> baking needs)', '(bread and cake, total = high, biscuits, vegetables -> fruit)', '(bread and cake, canned vegetables, biscuits -> frozen foods)', '(total = high, tissues-paper prd, vegetables -> frozen foods)', '(sauces-gravy-pkle, total = high, vegetables -> frozen foods)', '(juice-sat-cord-ms, total = high, vegetables -> frozen foods)', '(total = high, party snack foods, vegetables -> frozen foods)', '(bread and cake, total = high, party snack foods -> biscuits)', '(breakfast food, baking needs, vegetables -> bread and cake)', '(juice-sat-cord-ms, margarine, vegetables -> bread and cake)', '(breakfast food, vegetables, frozen foods -> bread and cake)', '(milk-cream, breakfast food, baking needs -> bread and cake)', '(juice-sat-cord-ms, breakfast food, fruit -> bread and cake)', '(milk-cream, breakfast food, frozen foods -> bread and cake)', '(milk-cream, juice-sat-cord-ms, margarine -> bread and cake)', '(milk-cream, sauces-gravy-pkle, margarine -> bread and cake)', '(margarine, tissues-paper prd, vegetables -> bread and cake)', '(milk-cream, party snack foods, margarine -> bread and cake)', '(party snack foods, margarine, vegetables -> bread and cake)', '(sauces-gravy-pkle, margarine, vegetables -> bread and cake)', '(pet foods, tissues-paper prd, vegetables -> bread and cake)', '(milk-cream, margarine, tissues-paper prd -> bread and cake)', '(milk-cream, margarine, fruit, vegetables -> bread and cake)', '(margarine, fruit, biscuits, baking needs -> bread and cake)', '(total = high, baking needs, frozen foods -> bread and cake)', '(margarine, fruit, biscuits, frozen foods -> bread and cake)', '(milk-cream, bread and cake, margarine, vegetables -> fruit)', '(milk-cream, bread and cake, margarine, fruit -> vegetables)', '(margarine, tissues-paper prd, frozen foods -> baking needs)', '(bread and cake, total = high, frozen foods -> baking needs)', '(bread and cake, total = high, baking needs -> frozen foods)', '(soft drinks, baking needs, frozen foods -> bread and cake)', '(juice-sat-cord-ms, baking needs, cheese -> bread and cake)', '(breakfast food, margarine, baking needs -> bread and cake)', '(department137, baking needs, vegetables -> bread and cake)', '(department137, vegetables, frozen foods -> bread and cake)', '(baking needs, cheese, tissues-paper prd -> bread and cake)', '(milk-cream, sauces-gravy-pkle, biscuits -> bread and cake)', '(milk-cream, department137, baking needs -> bread and cake)', '(milk-cream, juice-sat-cord-ms, biscuits -> bread and cake)', '(milk-cream, party snack foods, biscuits -> bread and cake)', '(juice-sat-cord-ms, biscuits, vegetables -> bread and cake)', '(party snack foods, biscuits, vegetables -> bread and cake)', '(milk-cream, department137, frozen foods -> bread and cake)', '(sauces-gravy-pkle, biscuits, vegetables -> bread and cake)', '(biscuits, tissues-paper prd, vegetables -> bread and cake)', '(milk-cream, biscuits, tissues-paper prd -> bread and cake)', '(canned vegetables, biscuits, vegetables -> bread and cake)', '(milk-cream, fruit, biscuits, vegetables -> bread and cake)', '(juice-sat-cord-ms, tissues-paper prd, vegetables -> fruit)', '(party snack foods, fruit, tissues-paper prd -> vegetables)', '(sauces-gravy-pkle, juice-sat-cord-ms, fruit -> vegetables)', '(party snack foods, tissues-paper prd, vegetables -> fruit)', '(sauces-gravy-pkle, party snack foods, fruit -> vegetables)', '(sauces-gravy-pkle, fruit, tissues-paper prd -> vegetables)', '(biscuits, baking needs, vegetables, frozen foods -> fruit)', '(fruit, biscuits, baking needs, frozen foods -> vegetables)', '(milk-cream, bread and cake, biscuits, vegetables -> fruit)', '(bread and cake, breakfast food, margarine -> baking needs)', '(total = high, party snack foods, biscuits -> baking needs)', '(juice-sat-cord-ms, total = high, biscuits -> baking needs)', '(total = high, biscuits, tissues-paper prd -> baking needs)', '(sauces-gravy-pkle, total = high, biscuits -> baking needs)', '(total = high, biscuits, tissues-paper prd -> frozen foods)', '(juice-sat-cord-ms, total = high, biscuits -> frozen foods)', '(total = high, party snack foods, biscuits -> frozen foods)', '(juice-sat-cord-ms, total = high, frozen foods -> biscuits)', '(sauces-gravy-pkle, total = high, frozen foods -> biscuits)', '(sauces-gravy-pkle, total = high, biscuits -> frozen foods)', '(total = high, tissues-paper prd, frozen foods -> biscuits)', '(total = high, party snack foods, baking needs -> biscuits)', '(total = high, party snack foods, frozen foods -> biscuits)', '(breakfast food, biscuits, baking needs -> bread and cake)', '(baking needs, vegetables, frozen foods -> bread and cake)', '(breakfast food, biscuits, frozen foods -> bread and cake)', '(sauces-gravy-pkle, margarine, biscuits -> bread and cake)', '(juice-sat-cord-ms, margarine, biscuits -> bread and cake)', '(juice-sat-cord-ms, fruit, frozen foods -> bread and cake)', '(juice-sat-cord-ms, fruit, baking needs -> bread and cake)', '(sauces-gravy-pkle, fruit, baking needs -> bread and cake)', '(margarine, biscuits, tissues-paper prd -> bread and cake)', '(milk-cream, baking needs, frozen foods -> bread and cake)', '(party snack foods, margarine, biscuits -> bread and cake)', '(milk-cream, breakfast food, vegetables -> bread and cake)', '(fruit, baking needs, tissues-paper prd -> bread and cake)', '(sauces-gravy-pkle, fruit, frozen foods -> bread and cake)', '(fruit, tissues-paper prd, frozen foods -> bread and cake)', '(party snack foods, fruit, frozen foods -> bread and cake)', '(party snack foods, fruit, baking needs -> bread and cake)', '(canned vegetables, fruit, baking needs -> bread and cake)', '(canned vegetables, fruit, frozen foods -> bread and cake)', '(total = high, baking needs, vegetables -> bread and cake)', '(total = high, vegetables, frozen foods -> bread and cake)', '(milk-cream, total = high, baking needs -> bread and cake)', '(sauces-gravy-pkle, total = high, fruit -> bread and cake)', '(juice-sat-cord-ms, total = high, fruit -> bread and cake)', '(margarine, fruit, biscuits, vegetables -> bread and cake)', '(milk-cream, total = high, frozen foods -> bread and cake)', '(bread and cake, juice-sat-cord-ms, total = high -> fruit)', '(total = high, fruit, tissues-paper prd -> bread and cake)', '(total = high, party snack foods, fruit -> bread and cake)', '(bread and cake, margarine, fruit, biscuits -> vegetables)', '(bread and cake, margarine, biscuits, vegetables -> fruit)', '(bread and cake, total = high, vegetables -> baking needs)', '(bread and cake, total = high, vegetables -> frozen foods)', '(soft drinks, vegetables, frozen foods -> bread and cake)', '(margarine, baking needs, frozen foods -> bread and cake)', '(juice-sat-cord-ms, cheese, vegetables -> bread and cake)', '(milk-cream, soft drinks, frozen foods -> bread and cake)', '(dairy foods, baking needs, vegetables -> bread and cake)', '(milk-cream, soft drinks, baking needs -> bread and cake)', '(baking needs, pet foods, frozen foods -> bread and cake)', '(dairy foods, vegetables, frozen foods -> bread and cake)', '(department137, biscuits, baking needs -> bread and cake)', '(milk-cream, department137, vegetables -> bread and cake)', '(cheese, tissues-paper prd, vegetables -> bread and cake)', '(department137, biscuits, frozen foods -> bread and cake)', '(total = high, margarine, baking needs -> bread and cake)', '(total = high, margarine, frozen foods -> bread and cake)', '(milk-cream, fruit, biscuits, frozen foods -> vegetables)', '(milk-cream, fruit, biscuits, baking needs -> vegetables)', '(milk-cream, biscuits, baking needs, vegetables -> fruit)', '(milk-cream, biscuits, vegetables, frozen foods -> fruit)', '(bread and cake, total = high, margarine -> baking needs)', '(bread and cake, total = high, margarine -> frozen foods)', '(juice-sat-cord-ms, canned vegetables -> bread and cake)', '(sauces-gravy-pkle, party snack foods -> bread and cake)', '(sauces-gravy-pkle, tissues-paper prd -> bread and cake)', '(juice-sat-cord-ms, tissues-paper prd -> bread and cake)', '(sauces-gravy-pkle, canned vegetables -> bread and cake)', '(party snack foods, tissues-paper prd -> bread and cake)', '(party snack foods, canned vegetables -> bread and cake)', '(juice-sat-cord-ms, fruit, vegetables -> bread and cake)', '(canned vegetables, tissues-paper prd -> bread and cake)', '(milk-cream, juice-sat-cord-ms, fruit -> bread and cake)', '(milk-cream, baking needs, vegetables -> bread and cake)', '(milk-cream, sauces-gravy-pkle, fruit -> bread and cake)', '(biscuits, baking needs, frozen foods -> bread and cake)', '(sauces-gravy-pkle, fruit, vegetables -> bread and cake)', '(party snack foods, fruit, vegetables -> bread and cake)', '(fruit, tissues-paper prd, vegetables -> bread and cake)', '(milk-cream, fruit, tissues-paper prd -> bread and cake)', '(milk-cream, vegetables, frozen foods -> bread and cake)', '(milk-cream, breakfast food, biscuits -> bread and cake)', '(milk-cream, party snack foods, fruit -> bread and cake)', '(canned vegetables, fruit, vegetables -> bread and cake)', '(milk-cream, canned vegetables, fruit -> bread and cake)', '(breakfast food, biscuits, vegetables -> bread and cake)', '(milk-cream, total = high, vegetables -> bread and cake)', '(total = high, biscuits, baking needs -> bread and cake)', '(total = high, biscuits, frozen foods -> bread and cake)', '(bread and cake, fruit, tissues-paper prd -> vegetables)', '(bread and cake, juice-sat-cord-ms, vegetables -> fruit)', '(bread and cake, tissues-paper prd, vegetables -> fruit)', '(bread and cake, party snack foods, vegetables -> fruit)', '(bread and cake, canned vegetables, vegetables -> fruit)', '(sauces-gravy-pkle, bread and cake, fruit -> vegetables)', '(bread and cake, canned vegetables, fruit -> vegetables)', '(total = high, fruit, tissues-paper prd -> baking needs)', '(total = high, vegetables, frozen foods -> baking needs)', '(milk-cream, total = high, frozen foods -> baking needs)', '(bread and cake, total = high, biscuits -> baking needs)', '(total = high, baking needs, vegetables -> frozen foods)', '(total = high, fruit, tissues-paper prd -> frozen foods)', '(total = high, party snack foods, fruit -> frozen foods)', '(bread and cake, total = high, biscuits -> frozen foods)', '(bread and cake, total = high, frozen foods -> biscuits)', '(milk-cream, soft drinks, vegetables -> bread and cake)', '(breakfast food, fruit, baking needs -> bread and cake)', '(milk-cream, dairy foods, vegetables -> bread and cake)', '(soft drinks, biscuits, frozen foods -> bread and cake)', '(margarine, vegetables, frozen foods -> bread and cake)', '(breakfast food, fruit, frozen foods -> bread and cake)', '(milk-cream, margarine, frozen foods -> bread and cake)', '(party snack foods, biscuits, cheese -> bread and cake)', '(baking needs, pet foods, vegetables -> bread and cake)', '(margarine, fruit, tissues-paper prd -> bread and cake)', '(margarine, baking needs, vegetables -> bread and cake)', '(juice-sat-cord-ms, margarine, fruit -> bread and cake)', '(milk-cream, pet foods, frozen foods -> bread and cake)', '(pet foods, vegetables, frozen foods -> bread and cake)', '(sauces-gravy-pkle, margarine, fruit -> bread and cake)', '(milk-cream, margarine, baking needs -> bread and cake)', '(milk-cream, baking needs, pet foods -> bread and cake)', '(party snack foods, margarine, fruit -> bread and cake)', '(department137, biscuits, vegetables -> bread and cake)', '(fruit, pet foods, tissues-paper prd -> bread and cake)', '(milk-cream, department137, biscuits -> bread and cake)', '(total = high, margarine, vegetables -> bread and cake)', '(milk-cream, total = high, margarine -> bread and cake)', '(bread and cake, total = high, margarine -> vegetables)', '(total = high, margarine, baking needs -> frozen foods)', '(total = high, margarine, frozen foods -> baking needs)', '(baking needs, cheese, frozen foods -> bread and cake)', '(sauces-gravy-pkle, fruit, biscuits -> bread and cake)', '(juice-sat-cord-ms, fruit, biscuits -> bread and cake)', '(biscuits, baking needs, vegetables -> bread and cake)', '(fruit, biscuits, tissues-paper prd -> bread and cake)', '(party snack foods, fruit, biscuits -> bread and cake)', '(department137, fruit, baking needs -> bread and cake)', '(department137, fruit, frozen foods -> bread and cake)', '(milk-cream, biscuits, baking needs -> bread and cake)', '(margarine, baking needs, pet foods -> bread and cake)', '(milk-cream, biscuits, frozen foods -> bread and cake)', '(biscuits, vegetables, frozen foods -> bread and cake)', '(canned vegetables, fruit, biscuits -> bread and cake)', '(party snack foods, fruit, baking needs -> vegetables)', '(total = high, biscuits, vegetables -> bread and cake)', '(milk-cream, total = high, biscuits -> bread and cake)', '(tissues-paper prd, vegetables, frozen foods -> fruit)', '(fruit, baking needs, tissues-paper prd -> vegetables)', '(fruit, tissues-paper prd, frozen foods -> vegetables)', '(sauces-gravy-pkle, fruit, baking needs -> vegetables)', '(sauces-gravy-pkle, fruit, frozen foods -> vegetables)', '(sauces-gravy-pkle, total = high, vegetables -> fruit)', '(total = high, tissues-paper prd, vegetables -> fruit)', '(total = high, party snack foods, fruit -> vegetables)', '(total = high, party snack foods, vegetables -> fruit)', '(juice-sat-cord-ms, total = high, vegetables -> fruit)', '(juice-sat-cord-ms, total = high, fruit -> vegetables)', '(total = high, fruit, tissues-paper prd -> vegetables)', '(sauces-gravy-pkle, total = high, fruit -> vegetables)', '(total = high, biscuits, frozen foods -> baking needs)', '(total = high, biscuits, baking needs -> frozen foods)', '(total = high, baking needs, frozen foods -> biscuits)', '(breakfast food, tissues-paper prd -> bread and cake)', '(breakfast food, party snack foods -> bread and cake)', '(breakfast food, fruit, vegetables -> bread and cake)', '(milk-cream, breakfast food, fruit -> bread and cake)', '(margarine, biscuits, baking needs -> bread and cake)', '(margarine, biscuits, frozen foods -> bread and cake)', '(milk-cream, soft drinks, biscuits -> bread and cake)', '(biscuits, baking needs, pet foods -> bread and cake)', '(fruit, baking needs, frozen foods -> bread and cake)', '(milk-cream, margarine, vegetables -> bread and cake)', '(milk-cream, pet foods, vegetables -> bread and cake)', '(biscuits, pet foods, frozen foods -> bread and cake)', '(total = high, margarine, biscuits -> bread and cake)', '(total = high, fruit, baking needs -> bread and cake)', '(total = high, margarine, baking needs -> vegetables)', '(total = high, fruit, frozen foods -> bread and cake)', '(bread and cake, breakfast food, fruit -> vegetables)', '(bread and cake, breakfast food, vegetables -> fruit)', '(total = high, margarine, vegetables -> baking needs)', '(bread and cake, total = high, margarine -> biscuits)', '(confectionary, party snack foods -> bread and cake)', '(department137, juice-sat-cord-ms -> bread and cake)', '(cleaners-polishers, baking needs -> bread and cake)', '(department137, party snack foods -> bread and cake)', '(laundry needs, sauces-gravy-pkle -> bread and cake)', '(laundry needs, tissues-paper prd -> bread and cake)', '(sauces-gravy-pkle, department137 -> bread and cake)', '(cleaners-polishers, frozen foods -> bread and cake)', '(laundry needs, party snack foods -> bread and cake)', '(soft drinks, fruit, frozen foods -> bread and cake)', '(soft drinks, fruit, baking needs -> bread and cake)', '(confectionary, tissues-paper prd -> bread and cake)', '(department137, tissues-paper prd -> bread and cake)', '(confectionary, fruit, vegetables -> bread and cake)', '(milk-cream, baking needs, cheese -> bread and cake)', '(department137, fruit, vegetables -> bread and cake)', '(dairy foods, fruit, baking needs -> bread and cake)', '(beef, baking needs, frozen foods -> bread and cake)', '(baking needs, cheese, vegetables -> bread and cake)', '(milk-cream, cheese, frozen foods -> bread and cake)', '(milk-cream, confectionary, fruit -> bread and cake)', '(dairy foods, fruit, frozen foods -> bread and cake)', '(laundry needs, fruit, vegetables -> bread and cake)', '(cheese, vegetables, frozen foods -> bread and cake)', '(fruit, cheese, tissues-paper prd -> bread and cake)', '(juice-sat-cord-ms, fruit, cheese -> bread and cake)', '(margarine, pet foods, vegetables -> bread and cake)', '(milk-cream, biscuits, vegetables -> bread and cake)', '(milk-cream, department137, fruit -> bread and cake)', '(party snack foods, fruit, cheese -> bread and cake)', '(confectionary, bread and cake, vegetables -> fruit)', '(milk-cream, party snack foods, vegetables -> fruit)', '(laundry needs, bread and cake, fruit -> vegetables)', '(laundry needs, bread and cake, vegetables -> fruit)', '(milk-cream, sauces-gravy-pkle, fruit -> vegetables)', '(milk-cream, tissues-paper prd, vegetables -> fruit)', '(milk-cream, total = high, biscuits -> baking needs)', '(total = high, biscuits, vegetables -> baking needs)', '(milk-cream, total = high, biscuits -> frozen foods)', '(total = high, biscuits, vegetables -> frozen foods)', '(total = high, party snack foods, fruit -> biscuits)', '(sauces-gravy-pkle, baking needs -> bread and cake)', '(sauces-gravy-pkle, frozen foods -> bread and cake)', '(party snack foods, frozen foods -> bread and cake)', '(party snack foods, baking needs -> bread and cake)', '(baking needs, tissues-paper prd -> bread and cake)', '(tissues-paper prd, frozen foods -> bread and cake)', '(canned vegetables, baking needs -> bread and cake)', '(canned vegetables, frozen foods -> bread and cake)', '(margarine, cheese, frozen foods -> bread and cake)', '(margarine, baking needs, cheese -> bread and cake)', '(fruit, baking needs, vegetables -> bread and cake)', '(milk-cream, fruit, baking needs -> bread and cake)', '(juice-sat-cord-ms, total = high -> bread and cake)', '(fruit, vegetables, frozen foods -> bread and cake)', '(sauces-gravy-pkle, total = high -> bread and cake)', '(milk-cream, fruit, frozen foods -> bread and cake)', '(breakfast food, fruit, biscuits -> bread and cake)', '(total = high, tissues-paper prd -> bread and cake)', '(milk-cream, margarine, biscuits -> bread and cake)', '(milk-cream, biscuits, pet foods -> bread and cake)', '(total = high, party snack foods -> bread and cake)', '(margarine, biscuits, vegetables -> bread and cake)', '(biscuits, pet foods, vegetables -> bread and cake)', '(total = high, canned vegetables -> bread and cake)', '(total = high, fruit, vegetables -> bread and cake)', '(milk-cream, total = high, fruit -> bread and cake)', '(bread and cake, vegetables, frozen foods -> fruit)', '(bread and cake, fruit, frozen foods -> vegetables)', '(bread and cake, fruit, baking needs -> vegetables)', '(juice-sat-cord-ms, margarine, fruit -> vegetables)', '(breakfast food, vegetables, frozen foods -> fruit)', '(breakfast food, fruit, baking needs -> vegetables)', '(party snack foods, margarine, fruit -> vegetables)', '(margarine, fruit, tissues-paper prd -> vegetables)', '(breakfast food, baking needs, vegetables -> fruit)', '(breakfast food, fruit, frozen foods -> vegetables)', '(sauces-gravy-pkle, margarine, fruit -> vegetables)', '(bread and cake, total = high, vegetables -> fruit)', '(bread and cake, total = high, fruit -> vegetables)', '(total = high, margarine, biscuits -> baking needs)', '(total = high, margarine, baking needs -> biscuits)', '(total = high, margarine, biscuits -> frozen foods)', '(total = high, margarine, frozen foods -> biscuits)', '(dairy foods, party snack foods -> bread and cake)', '(soft drinks, tissues-paper prd -> bread and cake)', '(dairy foods, juice-sat-cord-ms -> bread and cake)', '(sauces-gravy-pkle, dairy foods -> bread and cake)', '(cleaners-polishers, vegetables -> bread and cake)', '(soft drinks, fruit, vegetables -> bread and cake)', '(dairy foods, tissues-paper prd -> bread and cake)', '(dairy foods, fruit, vegetables -> bread and cake)', '(cleaners-polishers, milk-cream -> bread and cake)', '(milk-cream, dairy foods, fruit -> bread and cake)', '(milk-cream, soft drinks, fruit -> bread and cake)', '(milk-cream, cheese, vegetables -> bread and cake)', '(beef, baking needs, vegetables -> bread and cake)', '(confectionary, fruit, biscuits -> bread and cake)', '(biscuits, baking needs, cheese -> bread and cake)', '(beef, vegetables, frozen foods -> bread and cake)', '(margarine, fruit, frozen foods -> bread and cake)', '(biscuits, cheese, frozen foods -> bread and cake)', '(milk-cream, beef, frozen foods -> bread and cake)', '(milk-cream, beef, baking needs -> bread and cake)', '(fruit, baking needs, pet foods -> bread and cake)', '(margarine, fruit, baking needs -> bread and cake)', '(fruit, pet foods, frozen foods -> bread and cake)', '(department137, fruit, biscuits -> bread and cake)', '(dairy foods, bread and cake, fruit -> vegetables)', '(total = high, margarine, fruit -> bread and cake)', '(bread and cake, soft drinks, vegetables -> fruit)', '(bread and cake, beef, frozen foods -> vegetables)', '(sauces-gravy-pkle, biscuits, vegetables -> fruit)', '(bread and cake, beef, baking needs -> vegetables)', '(sauces-gravy-pkle, fruit, biscuits -> vegetables)', '(party snack foods, biscuits, vegetables -> fruit)', '(dairy foods, bread and cake, vegetables -> fruit)', '(biscuits, tissues-paper prd, vegetables -> fruit)', '(juice-sat-cord-ms, biscuits, vegetables -> fruit)', '(sauces-gravy-pkle, vegetables -> bread and cake)', '(milk-cream, juice-sat-cord-ms -> bread and cake)', '(party snack foods, vegetables -> bread and cake)', '(milk-cream, sauces-gravy-pkle -> bread and cake)', '(milk-cream, party snack foods -> bread and cake)', '(tissues-paper prd, vegetables -> bread and cake)', '(milk-cream, fruit, vegetables -> bread and cake)', '(canned vegetables, vegetables -> bread and cake)', '(milk-cream, canned vegetables -> bread and cake)', '(milk-cream, tissues-paper prd -> bread and cake)', '(fruit, biscuits, baking needs -> bread and cake)', '(margarine, cheese, vegetables -> bread and cake)', '(fruit, biscuits, frozen foods -> bread and cake)', '(bread and cake, total = high, biscuits -> fruit)', '(total = high, fruit, biscuits -> bread and cake)', '(fruit, baking needs, frozen foods -> vegetables)', '(milk-cream, breakfast food, vegetables -> fruit)', '(total = high, baking needs, vegetables -> fruit)', '(total = high, vegetables, frozen foods -> fruit)', '(sauces-gravy-pkle, total = high -> baking needs)', '(total = high, tissues-paper prd -> baking needs)', '(total = high, fruit, frozen foods -> vegetables)', '(total = high, fruit, baking needs -> vegetables)', '(sauces-gravy-pkle, total = high -> frozen foods)', '(total = high, party snack foods -> frozen foods)', '(breakfast food, frozen foods -> bread and cake)', '(breakfast food, baking needs -> bread and cake)', '(juice-sat-cord-ms, margarine -> bread and cake)', '(juice-sat-cord-ms, pet foods -> bread and cake)', '(canned vegetables, margarine -> bread and cake)', '(sauces-gravy-pkle, margarine -> bread and cake)', '(prepared meals, frozen foods -> bread and cake)', '(margarine, tissues-paper prd -> bread and cake)', '(pet foods, tissues-paper prd -> bread and cake)', '(party snack foods, margarine -> bread and cake)', '(baking needs, prepared meals -> bread and cake)', '(party snack foods, pet foods -> bread and cake)', '(sauces-gravy-pkle, pet foods -> bread and cake)', '(dairy foods, fruit, biscuits -> bread and cake)', '(fruit, pet foods, vegetables -> bread and cake)', '(soft drinks, fruit, biscuits -> bread and cake)', '(breakfast food, total = high -> bread and cake)', '(milk-cream, beef, vegetables -> bread and cake)', '(margarine, fruit, vegetables -> bread and cake)', '(biscuits, cheese, vegetables -> bread and cake)', '(milk-cream, margarine, fruit -> bread and cake)', '(milk-cream, fruit, pet foods -> bread and cake)', '(milk-cream, biscuits, cheese -> bread and cake)', '(beef, biscuits, frozen foods -> bread and cake)', '(milk-cream, bread and cake, beef -> vegetables)', '(bread and cake, margarine, fruit -> vegetables)', '(bread and cake, fruit, pet foods -> vegetables)', '(confectionary, frozen foods -> bread and cake)', '(confectionary, baking needs -> bread and cake)', '(laundry needs, frozen foods -> bread and cake)', '(juice-sat-cord-ms, biscuits -> bread and cake)', '(sauces-gravy-pkle, biscuits -> bread and cake)', '(department137, frozen foods -> bread and cake)', '(wrapping, tissues-paper prd -> bread and cake)', '(party snack foods, biscuits -> bread and cake)', '(department137, baking needs -> bread and cake)', '(laundry needs, baking needs -> bread and cake)', '(biscuits, tissues-paper prd -> bread and cake)', '(canned vegetables, biscuits -> bread and cake)', '(margarine, biscuits, cheese -> bread and cake)', '(laundry needs, total = high -> bread and cake)', '(fruit, baking needs, cheese -> bread and cake)', '(milk-cream, fruit, biscuits -> bread and cake)', '(fruit, biscuits, vegetables -> bread and cake)', '(department137, total = high -> bread and cake)', '(fruit, cheese, frozen foods -> bread and cake)', '(milk-cream, vegetables, frozen foods -> fruit)', '(breakfast food, fruit, biscuits -> vegetables)', '(milk-cream, fruit, baking needs -> vegetables)', '(bread and cake, biscuits, vegetables -> fruit)', '(breakfast food, biscuits, vegetables -> fruit)', '(milk-cream, total = high, vegetables -> fruit)', '(milk-cream, total = high, fruit -> vegetables)', '(total = high, fruit, biscuits -> frozen foods)', '(total = high, fruit, frozen foods -> biscuits)', '(baking needs, frozen foods -> bread and cake)', '(jams-spreads, baking needs -> bread and cake)', '(breakfast food, vegetables -> bread and cake)', '(milk-cream, breakfast food -> bread and cake)', '(canned fruit, frozen foods -> bread and cake)', '(prepared meals, vegetables -> bread and cake)', '(jams-spreads, frozen foods -> bread and cake)', '(baking needs, canned fruit -> bread and cake)', '(milk-cream, prepared meals -> bread and cake)', '(total = high, baking needs -> bread and cake)', '(margarine, fruit, biscuits -> bread and cake)', '(fruit, biscuits, pet foods -> bread and cake)', '(total = high, frozen foods -> bread and cake)', '(beef, biscuits, vegetables -> bread and cake)', '(pet foods, vegetables, frozen foods -> fruit)', '(margarine, fruit, frozen foods -> vegetables)', '(margarine, fruit, baking needs -> vegetables)', '(total = high, margarine, vegetables -> fruit)', '(fruit, pet foods, frozen foods -> vegetables)', '(fruit, baking needs, pet foods -> vegetables)', '(breakfast food, total = high -> baking needs)', '(total = high, margarine, fruit -> vegetables)', '(soft drinks, frozen foods -> bread and cake)', '(juice-sat-cord-ms, cheese -> bread and cake)', '(confectionary, vegetables -> bread and cake)', '(sauces-gravy-pkle, cheese -> bread and cake)', '(breakfast food, margarine -> bread and cake)', '(milk-cream, confectionary -> bread and cake)', '(department137, vegetables -> bread and cake)', '(breakfast food, pet foods -> bread and cake)', '(dairy foods, frozen foods -> bread and cake)', '(party snack foods, cheese -> bread and cake)', '(dairy foods, baking needs -> bread and cake)', '(cheese, tissues-paper prd -> bread and cake)', '(laundry needs, vegetables -> bread and cake)', '(cleaners-polishers, fruit -> bread and cake)', '(laundry needs, milk-cream -> bread and cake)', '(milk-cream, department137 -> bread and cake)', '(fruit, cheese, vegetables -> bread and cake)', '(soft drinks, total = high -> bread and cake)', '(beef, fruit, frozen foods -> bread and cake)', '(milk-cream, fruit, cheese -> bread and cake)', '(beef, fruit, baking needs -> bread and cake)', '(dairy foods, total = high -> bread and cake)', '(bread and cake, fruit, cheese -> vegetables)', '(bread and cake, cheese, vegetables -> fruit)', '(biscuits, vegetables, frozen foods -> fruit)', '(biscuits, baking needs, vegetables -> fruit)', '(total = high, fruit, biscuits -> vegetables)', '(total = high, biscuits, vegetables -> fruit)', '(laundry needs, margarine -> bread and cake)', '(juice-sat-cord-ms, fruit -> bread and cake)', '(baking needs, vegetables -> bread and cake)', '(stationary, frozen foods -> bread and cake)', '(stationary, baking needs -> bread and cake)', '(vegetables, frozen foods -> bread and cake)', '(sauces-gravy-pkle, fruit -> bread and cake)', '(breakfast food, biscuits -> bread and cake)', '(confectionary, margarine -> bread and cake)', '(biscuits, prepared meals -> bread and cake)', '(fruit, tissues-paper prd -> bread and cake)', '(milk-cream, baking needs -> bread and cake)', '(party snack foods, fruit -> bread and cake)', '(milk-cream, frozen foods -> bread and cake)', '(department137, margarine -> bread and cake)', '(jams-spreads, vegetables -> bread and cake)', '(canned vegetables, fruit -> bread and cake)', '(department137, pet foods -> bread and cake)', '(canned fruit, vegetables -> bread and cake)', '(milk-cream, jams-spreads -> bread and cake)', '(milk-cream, canned fruit -> bread and cake)', '(total = high, vegetables -> bread and cake)', '(margarine, fruit, cheese -> bread and cake)', '(milk-cream, total = high -> bread and cake)', '(milk-cream, margarine, fruit -> vegetables)', '(milk-cream, pet foods, vegetables -> fruit)', '(milk-cream, fruit, pet foods -> vegetables)', '(milk-cream, soft drinks -> bread and cake)', '(juice-sat-cord-ms, beef -> bread and cake)', '(confectionary, biscuits -> bread and cake)', '(margarine, frozen foods -> bread and cake)', '(dairy foods, vegetables -> bread and cake)', '(margarine, baking needs -> bread and cake)', '(milk-cream, dairy foods -> bread and cake)', '(beef, party snack foods -> bread and cake)', '(laundry needs, biscuits -> bread and cake)', '(sauces-gravy-pkle, beef -> bread and cake)', '(baking needs, pet foods -> bread and cake)', '(pet foods, frozen foods -> bread and cake)', '(department137, biscuits -> bread and cake)', '(beef, tissues-paper prd -> bread and cake)', '(small goods, vegetables -> bread and cake)', '(beef, fruit, vegetables -> bread and cake)', '(total = high, margarine -> bread and cake)', '(milk-cream, beef, fruit -> bread and cake)', '(total = high, pet foods -> bread and cake)', '(fruit, biscuits, cheese -> bread and cake)', '(fruit, cheese, frozen foods -> vegetables)', '(milk-cream, biscuits, vegetables -> fruit)', '(fruit, baking needs, cheese -> vegetables)', '(bread and cake, beef, fruit -> vegetables)', '(soft drinks, margarine -> bread and cake)', '(wrapping, baking needs -> bread and cake)', '(breakfast food, cheese -> bread and cake)', '(milk-cream, stationary -> bread and cake)', '(stationary, vegetables -> bread and cake)', '(milk-cream, vegetables -> bread and cake)', '(wrapping, frozen foods -> bread and cake)', '(biscuits, baking needs -> bread and cake)', '(biscuits, frozen foods -> bread and cake)', '(dairy foods, margarine -> bread and cake)', '(jams-spreads, biscuits -> bread and cake)', '(biscuits, canned fruit -> bread and cake)', '(total = high, biscuits -> bread and cake)', '(margarine, biscuits, vegetables -> fruit)', '(fruit, biscuits, pet foods -> vegetables)', '(biscuits, pet foods, vegetables -> fruit)', '(soft drinks, biscuits -> bread and cake)', '(department137, cheese -> bread and cake)', '(breakfast food, fruit -> bread and cake)', '(pet foods, vegetables -> bread and cake)', '(margarine, vegetables -> bread and cake)', '(dairy foods, biscuits -> bread and cake)', '(milk-cream, margarine -> bread and cake)', '(milk-cream, pet foods -> bread and cake)', '(fruit, prepared meals -> bread and cake)', '(milk-cream, cheese, vegetables -> fruit)', '(milk-cream, fruit, cheese -> vegetables)', '(beef, fruit, frozen foods -> vegetables)', '(beef, fruit, baking needs -> vegetables)', '(total = high, margarine -> baking needs)', '(confectionary, fruit -> bread and cake)', '(baking needs, cheese -> bread and cake)', '(stationary, biscuits -> bread and cake)', '(cheese, frozen foods -> bread and cake)', '(wrapping, vegetables -> bread and cake)', '(milk-cream, wrapping -> bread and cake)', '(department137, fruit -> bread and cake)', '(laundry needs, fruit -> bread and cake)', '(milk-cream, biscuits -> bread and cake)', '(margarine, pet foods -> bread and cake)', '(biscuits, vegetables -> bread and cake)', '(total = high, cheese -> bread and cake)', '(canned vegetables, fruit -> vegetables)', '(total = high, biscuits -> baking needs)', '(total = high, biscuits -> frozen foods)', '(fruit, baking needs -> bread and cake)', '(fruit, frozen foods -> bread and cake)', '(margarine, biscuits -> bread and cake)', '(biscuits, pet foods -> bread and cake)', '(jams-spreads, fruit -> bread and cake)', '(fruit, canned fruit -> bread and cake)', '(total = high, fruit -> bread and cake)', '(biscuits, cheese, vegetables -> fruit)', '(fruit, biscuits, cheese -> vegetables)', '(milk-cream, beef, fruit -> vegetables)', '(soft drinks, fruit -> bread and cake)', '(dairy foods, fruit -> bread and cake)', '(beef, frozen foods -> bread and cake)', '(cheese, vegetables -> bread and cake)', '(wrapping, biscuits -> bread and cake)', '(milk-cream, cheese -> bread and cake)', '(beef, baking needs -> bread and cake)', '(beef, total = high -> bread and cake)', '(total = high, cheese -> baking needs)', '(stationary, fruit -> bread and cake)', '(fruit, vegetables -> bread and cake)', '(margarine, cheese -> bread and cake)', '(milk-cream, fruit -> bread and cake)', '(cheese, pet foods -> bread and cake)', '(breakfast food, vegetables -> fruit)', '(canned fish-meat -> bread and cake)', '(beef, vegetables -> bread and cake)', '(biscuits, cheese -> bread and cake)', '(milk-cream, beef -> bread and cake)', '(fruit, pet foods -> bread and cake)', '(margarine, fruit -> bread and cake)', '(beef, total = high -> frozen foods)', '(beef, margarine -> bread and cake)', '(wrapping, fruit -> bread and cake)', '(fruit, biscuits -> bread and cake)', '(beef, pet foods -> bread and cake)', '(canned fruit, vegetables -> fruit)', '(total = high, vegetables -> fruit)', '(total = high, fruit -> vegetables)', '(beef, biscuits -> bread and cake)', '(dairy foods, vegetables -> fruit)', '(beef, total = high -> vegetables)', '(fruit, cheese -> bread and cake)', '(jams-spreads -> bread and cake)', '(canned fruit -> bread and cake)', '(total = high -> bread and cake)', '(small goods -> bread and cake)', '(beef, fruit -> bread and cake)', '(margarine -> bread and cake)', '(beef, fruit -> vegetables)']\n"
     ]
    }
   ],
   "source": [
    "#Generating frequent rules\n",
    "final_rules  = []\n",
    "for pair in total:\n",
    "    first = pair[0]\n",
    "    second = pair[1]\n",
    "    code1 = \",\".join(sorted(first))\n",
    "    code2 = \",\".join(sorted(second))\n",
    "    text1 = \", \".join([original[int(x)] for x in first])\n",
    "    text2 = \", \".join([original[int(x)] for x in second])\n",
    "    full = \",\".join(sorted(first + second))\n",
    "    p_a = len(common_sets[code1])\n",
    "    p_b = len(common_sets[code2])\n",
    "    p_ab = len(common_sets[full])\n",
    "    confidence = p_ab / p_a\n",
    "    lift = confidence / (p_b/len(supermarket))\n",
    "    if confidence >= minconf and lift >= minlift:\n",
    "        full_text = \"(\" + text1 + \" -> \" + text2 + \")\"\n",
    "        final_rules.append([full_text,lift,confidence])\n",
    "final_rules = sorted(final_rules, key=lambda e: (len(final_rules)-len(e[0]), e[1], e[2]))\n",
    "print_list = [e[0] for e in final_rules]\n",
    "print(print_list)"
   ]
  },
  {
   "cell_type": "code",
   "execution_count": 533,
   "metadata": {},
   "outputs": [
    {
     "name": "stdout",
     "output_type": "stream",
     "text": [
      "Total Frequent Rules:  955\n"
     ]
    }
   ],
   "source": [
    "print(\"Total Frequent Rules: \",len(final_rules))"
   ]
  },
  {
   "cell_type": "markdown",
   "metadata": {},
   "source": [
    "# FROM HERE ONWARDS IS TASK 5"
   ]
  },
  {
   "cell_type": "code",
   "execution_count": 577,
   "metadata": {},
   "outputs": [
    {
     "name": "stdout",
     "output_type": "stream",
     "text": [
      "2313.5\n",
      "Preprocessing complete\n",
      "Iteration begins\n",
      "44\n",
      "Iteration begins\n",
      "379\n",
      "DONE\n",
      "423 frequent itemsets\n",
      "758 possible association rules\n"
     ]
    }
   ],
   "source": [
    "#make sure to run the supermarket.csv preprocessing section, not the Task 1 dataset\n",
    "minsup = 0.15\n",
    "minconf = 0.80\n",
    "minlift = 0\n",
    "minrelativesup = 0.5\n",
    "sup_value = minsup * len(supermarket)\n",
    "minrelativesupvalue = minrelativesup * len(supermarket)\n",
    "print(minrelativesupvalue)\n",
    "\n",
    "#task 5 min_relative_sup\n",
    "candidates = np.array([])\n",
    "common_sets = {}\n",
    "k = 2\n",
    "unique = set(dict_by_words.keys())\n",
    "for value in unique:\n",
    "    if len(dict_by_words[value]) > sup_value:\n",
    "        candidates = np.append(candidates,value)\n",
    "original = candidates\n",
    "individuals = np.array([str(a) for a in range(len(original))])\n",
    "for code in individuals:\n",
    "    common_sets[code] = dict_by_words[original[int(code)]]\n",
    "pruned = individuals\n",
    "print(\"Preprocessing complete\")\n",
    "results = np.array(individuals)\n",
    "forbidden = {}\n",
    "while len(pruned) > 0:\n",
    "    covered = np.array([])\n",
    "    print(\"Iteration begins\")\n",
    "    print(len(pruned))\n",
    "    candidates = np.array([])\n",
    "    for z in range(len(pruned)):\n",
    "        element = pruned[z]\n",
    "        set1 = set(common_sets[element])\n",
    "        for q in range(len(individuals)):\n",
    "            possible = individuals[q]\n",
    "            if k > 2 and possible in forbidden[\"\".join(element)]:\n",
    "                continue\n",
    "            set2 = set(common_sets[possible])\n",
    "            set3 = set1 & set2\n",
    "            if len(set3) > sup_value and possible not in element:\n",
    "                truth = True\n",
    "                temp = element.split(\",\") + [possible]\n",
    "                covered = np.append(covered,temp)\n",
    "                full = sorted(temp)\n",
    "                full = \",\".join(full)\n",
    "                if k > 2:                                                         #########\n",
    "                    k_minus = itertools.combinations(full.split(\",\"),k-1)         #########\n",
    "                    largest = 0                                                   #########\n",
    "                    for m in k_minus:                                             #########\n",
    "                        term = \"\".join(m)                                         #########\n",
    "                        if term in common_sets.keys():                            #########\n",
    "                            temp_val = len(common_sets[term])                     #########\n",
    "                            if temp_val > largest:                                #########\n",
    "                                largest = temp_val                                #########\n",
    "                    if largest < minrelativesupvalue:                             #########\n",
    "                        truth = False                                             #########\n",
    "                if full not in common_sets and truth:\n",
    "                    candidates = np.append(candidates, full)\n",
    "                    common_sets[full] = set3 \n",
    "                    results = np.append(results,full)\n",
    "            else:\n",
    "                if k == 2:\n",
    "                    if element not in forbidden:\n",
    "                        forbidden[element] = np.array([])\n",
    "                    forbidden[element] = np.append(forbidden[element],possible)\n",
    "    for r in candidates:\n",
    "        no = np.array([])\n",
    "        q_list = r.split(\",\")\n",
    "        for u in range(len(q_list)):\n",
    "            no = np.append(no,forbidden[q_list[u]])\n",
    "        forbidden[\"\".join(r)] = no\n",
    "    covered = set(covered)\n",
    "    individuals = np.array(list(covered))\n",
    "    pruned = candidates\n",
    "    k += 1 \n",
    "print(\"DONE\")\n",
    "#Generating unique itemsets and possible association rules\n",
    "print(len(results), \"frequent itemsets\")\n",
    "total = []\n",
    "for value in results:\n",
    "    qq = value.split(\",\")\n",
    "    for i in range(1,len(qq)):\n",
    "        xs = itertools.combinations(qq, i)\n",
    "        for v in xs:\n",
    "            copy1 = value.split(\",\")\n",
    "            for x in v:\n",
    "                copy1.pop(copy1.index(x))\n",
    "            if (list(v),copy1) not in total:\n",
    "                total.append((list(v),copy1))\n",
    "print(len(total), \"possible association rules\")"
   ]
  },
  {
   "cell_type": "code",
   "execution_count": 578,
   "metadata": {},
   "outputs": [
    {
     "name": "stdout",
     "output_type": "stream",
     "text": [
      "['(canned fish-meat -> bread and cake)', '(jams-spreads -> bread and cake)', '(canned fruit -> bread and cake)', '(total = high -> bread and cake)', '(small goods -> bread and cake)', '(margarine -> bread and cake)']\n"
     ]
    }
   ],
   "source": [
    "#Generating frequent rules\n",
    "final_rules  = []\n",
    "for pair in total:\n",
    "    first = pair[0]\n",
    "    second = pair[1]\n",
    "    code1 = \",\".join(sorted(first))\n",
    "    code2 = \",\".join(sorted(second))\n",
    "    text1 = \", \".join([original[int(x)] for x in first])\n",
    "    text2 = \", \".join([original[int(x)] for x in second])\n",
    "    full = \",\".join(sorted(first + second))\n",
    "    p_a = len(common_sets[code1])\n",
    "    p_b = len(common_sets[code2])\n",
    "    p_ab = len(common_sets[full])\n",
    "    confidence = p_ab / p_a\n",
    "    lift = confidence / (p_b/len(supermarket))\n",
    "    if confidence >= minconf and lift >= minlift:\n",
    "        full_text = \"(\" + text1 + \" -> \" + text2 + \")\"\n",
    "        final_rules.append([full_text,lift,confidence])\n",
    "final_rules = sorted(final_rules, key=lambda e: (len(final_rules)-len(e[0]), e[1], e[2]))\n",
    "print_list = [e[0] for e in final_rules]\n",
    "print(print_list)"
   ]
  },
  {
   "cell_type": "code",
   "execution_count": 579,
   "metadata": {},
   "outputs": [
    {
     "name": "stdout",
     "output_type": "stream",
     "text": [
      "Total Frequent Rules:  6\n"
     ]
    }
   ],
   "source": [
    "print(\"Total Frequent Rules: \",len(final_rules))"
   ]
  },
  {
   "cell_type": "markdown",
   "metadata": {},
   "source": [
    "# FROM HERE ONWARDS IS TASK 3\n",
    "I have copy pasted everything from my Task 2 Apriori implementation. The only difference is the preprocessing."
   ]
  },
  {
   "cell_type": "code",
   "execution_count": 537,
   "metadata": {},
   "outputs": [
    {
     "name": "stdout",
     "output_type": "stream",
     "text": [
      "{'A': [0, 1, 2, 3], 'B': [0, 1, 2, 3, 4], 'C': [0, 1, 2, 4], 'D': [0, 1, 2], 'F': [0], 'E': [4]}\n",
      "minsup in occurences:  0.75\n",
      "Preprocessing complete\n",
      "Iteration begins\n",
      "6\n",
      "Iteration begins\n",
      "12\n",
      "Iteration begins\n",
      "11\n",
      "Iteration begins\n",
      "5\n",
      "Iteration begins\n",
      "1\n",
      "DONE\n",
      "35\n",
      "35 frequent itemsets\n",
      "190 possible association rules\n"
     ]
    }
   ],
   "source": [
    "minsup = 0.15\n",
    "minconf = 0.80\n",
    "sup_value = minsup * len(lines_list)\n",
    "\n",
    "\n",
    "line1 = [\"A\", \"B\", \"C\", \"D\", \"F\"]\n",
    "line2 = [\"A\", \"B\", \"C\", \"D\"]\n",
    "line3 = [\"A\", \"B\", \"C\", \"D\"]\n",
    "line4 = [\"A\", \"B\"]\n",
    "line5 = [\"B\", \"C\", \"E\" ]\n",
    "lines = line1 + line2 + line3 + line4 + line5\n",
    "lines = list(set(lines))\n",
    "lines_list = [line1,line2,line3,line4,line5]\n",
    "\n",
    "dict_by_words = {}\n",
    "for i in range(len(lines_list)):\n",
    "    row = lines_list[i]\n",
    "    for word in row:\n",
    "        if word in dict_by_words:\n",
    "            dict_by_words[word].append(i)\n",
    "        else:\n",
    "            dict_by_words[word] = []\n",
    "            dict_by_words[word].append(i)\n",
    "print(dict_by_words)\n",
    "print(\"minsup in occurences: \",sup_value)\n",
    "\n",
    "#Apriori implementation, a detailed description is provided in the report\n",
    "candidates = np.array([])\n",
    "common_sets = {}\n",
    "k = 2\n",
    "unique = set(dict_by_words.keys())\n",
    "for value in unique:\n",
    "    if len(dict_by_words[value]) > sup_value:\n",
    "        candidates = np.append(candidates,value)\n",
    "original = candidates\n",
    "individuals = np.array([str(a) for a in range(len(original))])\n",
    "for code in individuals:\n",
    "    common_sets[code] = dict_by_words[original[int(code)]]\n",
    "pruned = individuals\n",
    "print(\"Preprocessing complete\")\n",
    "results = np.array(individuals)\n",
    "forbidden = {}\n",
    "while len(pruned) > 0:\n",
    "    covered = np.array([])\n",
    "    print(\"Iteration begins\")\n",
    "    print(len(pruned))\n",
    "    candidates = np.array([])\n",
    "    for z in range(len(pruned)):\n",
    "        element = pruned[z]\n",
    "        set1 = set(common_sets[element])\n",
    "        for q in range(len(individuals)):\n",
    "            possible = individuals[q]\n",
    "            if k > 2 and possible in forbidden[\"\".join(element)]:\n",
    "                continue\n",
    "            set2 = set(common_sets[possible])\n",
    "            set3 = set1 & set2\n",
    "            if len(set3) >= sup_value and possible not in element:\n",
    "                temp = element.split(\",\") + [possible]\n",
    "                covered = np.append(covered,temp)\n",
    "                full = sorted(temp)\n",
    "                full = \",\".join(full)\n",
    "                if full not in common_sets:\n",
    "                    candidates = np.append(candidates, full)\n",
    "                    common_sets[full] = set3 \n",
    "                    results = np.append(results,full)\n",
    "            else:\n",
    "                if k == 2:\n",
    "                    if element not in forbidden:\n",
    "                        forbidden[element] = np.array([])\n",
    "                    forbidden[element] = np.append(forbidden[element],possible)\n",
    "    for r in candidates:\n",
    "        no = np.array([])\n",
    "        q_list = r.split(\",\")\n",
    "        for u in range(len(q_list)):\n",
    "            no = np.append(no,forbidden[q_list[u]])\n",
    "        forbidden[\"\".join(r)] = no\n",
    "    covered = set(covered)\n",
    "    individuals = np.array(list(covered))\n",
    "    pruned = candidates\n",
    "    k += 1 \n",
    "print(\"DONE\")\n",
    "print(len(results))\n",
    "#Generating unique itemsets and possible association rules\n",
    "print(len(results), \"frequent itemsets\")\n",
    "total = []\n",
    "for value in results:\n",
    "    qq = value.split(\",\")\n",
    "    for i in range(1,len(qq)):\n",
    "        xs = itertools.combinations(qq, i)\n",
    "        for v in xs:\n",
    "            copy1 = value.split(\",\")\n",
    "            for x in v:\n",
    "                copy1.pop(copy1.index(x))\n",
    "            if (list(v),copy1) not in total:\n",
    "                total.append((list(v),copy1))\n",
    "print(len(total), \"possible association rules\")"
   ]
  },
  {
   "cell_type": "code",
   "execution_count": 538,
   "metadata": {},
   "outputs": [
    {
     "name": "stdout",
     "output_type": "stream",
     "text": [
      "['(A, D, C, F -> B)', '(A, D, F -> B, C)', '(D, C, F -> B, A)', '(B, A, D, F -> C)', '(B, D, C, F -> A)', '(F -> B, A, D, C)', '(B, F -> A, D, C)', '(A, F -> B, D, C)', '(D, F -> B, A, C)', '(C, F -> B, A, D)', '(B, A, F -> D, C)', '(B, D, F -> A, C)', '(B, C, F -> A, D)', '(A, C, F -> B, D)', '(B, A, C, F -> D)', '(A, C, F -> B)', '(A, D, F -> B)', '(A, D, C -> B)', '(D, C, F -> B)', '(A, F -> B, C)', '(C, F -> B, A)', '(B, A, F -> C)', '(B, C, F -> A)', '(D, F -> B, A)', '(B, D, F -> A)', '(A, D -> B, C)', '(D, C -> B, A)', '(B, A, D -> C)', '(B, D, C -> A)', '(D, F -> B, C)', '(B, D, F -> C)', '(A, D, F -> C)', '(D, C, F -> A)', '(F -> B, A, C)', '(B, F -> A, C)', '(F -> B, A, D)', '(B, F -> A, D)', '(A, F -> B, D)', '(B, A, F -> D)', '(D -> B, A, C)', '(B, D -> A, C)', '(A, C -> B, D)', '(B, A, C -> D)', '(F -> B, D, C)', '(B, F -> D, C)', '(C, F -> B, D)', '(B, C, F -> D)', '(F -> A, D, C)', '(A, F -> D, C)', '(D, F -> A, C)', '(C, F -> A, D)', '(A, C, F -> D)', '(A, F -> B)', '(A, C -> B)', '(A, D -> B)', '(D, F -> B)', '(D, C -> B)', '(E, C -> B)', '(C, F -> B)', '(F -> B, A)', '(B, F -> A)', '(D -> B, A)', '(B, D -> A)', '(D -> B, C)', '(B, D -> C)', '(E -> B, C)', '(B, E -> C)', '(F -> B, C)', '(B, F -> C)', '(D, F -> A)', '(A, D -> C)', '(D, C -> A)', '(A, F -> C)', '(C, F -> A)', '(D, F -> C)', '(F -> B, D)', '(B, F -> D)', '(F -> A, D)', '(A, F -> D)', '(D -> A, C)', '(A, C -> D)', '(F -> A, C)', '(F -> D, C)', '(C, F -> D)', '(B -> A)', '(B -> C)', '(A -> B)', '(D -> B)', '(E -> B)', '(C -> B)', '(F -> B)', '(D -> A)', '(F -> A)', '(D -> C)', '(E -> C)', '(F -> C)', '(F -> D)']\n"
     ]
    }
   ],
   "source": [
    "#Generating frequent rules\n",
    "final_rules  = []\n",
    "for pair in total:\n",
    "    first = pair[0]\n",
    "    second = pair[1]\n",
    "    code1 = \",\".join(sorted(first))\n",
    "    code2 = \",\".join(sorted(second))\n",
    "    text1 = \", \".join([original[int(x)] for x in first])\n",
    "    text2 = \", \".join([original[int(x)] for x in second])\n",
    "    full = \",\".join(sorted(first + second))\n",
    "    p_a = len(common_sets[code1])\n",
    "    p_b = len(common_sets[code2])\n",
    "    p_ab = len(common_sets[full])\n",
    "    confidence = p_ab / p_a\n",
    "    lift = confidence / (p_b/len(supermarket))\n",
    "    if confidence >= minconf and lift >= minlift:\n",
    "        full_text = \"(\" + text1 + \" -> \" + text2 + \")\"\n",
    "        final_rules.append([full_text,lift,confidence])\n",
    "final_rules = sorted(final_rules, key=lambda e: (len(final_rules)-len(e[0]), e[1], e[2]))\n",
    "print_list = [e[0] for e in final_rules]\n",
    "print(print_list)"
   ]
  },
  {
   "cell_type": "code",
   "execution_count": 539,
   "metadata": {},
   "outputs": [
    {
     "name": "stdout",
     "output_type": "stream",
     "text": [
      "Total Frequent Rules:  97\n"
     ]
    }
   ],
   "source": [
    "print(\"Total Frequent Rules: \",len(print_list))"
   ]
  },
  {
   "cell_type": "code",
   "execution_count": null,
   "metadata": {},
   "outputs": [],
   "source": []
  },
  {
   "cell_type": "code",
   "execution_count": null,
   "metadata": {},
   "outputs": [],
   "source": []
  },
  {
   "cell_type": "code",
   "execution_count": null,
   "metadata": {},
   "outputs": [],
   "source": []
  },
  {
   "cell_type": "code",
   "execution_count": null,
   "metadata": {},
   "outputs": [],
   "source": []
  }
 ],
 "metadata": {
  "kernelspec": {
   "display_name": "Python 3",
   "language": "python",
   "name": "python3"
  },
  "language_info": {
   "codemirror_mode": {
    "name": "ipython",
    "version": 3
   },
   "file_extension": ".py",
   "mimetype": "text/x-python",
   "name": "python",
   "nbconvert_exporter": "python",
   "pygments_lexer": "ipython3",
   "version": "3.8.1"
  }
 },
 "nbformat": 4,
 "nbformat_minor": 4
}
